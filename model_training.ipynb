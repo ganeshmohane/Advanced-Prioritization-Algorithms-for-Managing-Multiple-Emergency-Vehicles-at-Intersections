{
 "cells": [
  {
   "cell_type": "markdown",
   "metadata": {},
   "source": [
    "Watch CNN Tutorial - https://www.youtube.com/playlist?list=PLuhqtP7jdD8CD6rOWy20INGM44kULvrHu"
   ]
  },
  {
   "cell_type": "code",
   "execution_count": null,
   "metadata": {},
   "outputs": [],
   "source": [
    "Model Training : https://colab.research.google.com/drive/1byy0IqQ1UpBbks2mFy3XwITrNhiM49uR?usp=sharing"
   ]
  }
 ],
 "metadata": {
  "language_info": {
   "name": "python"
  }
 },
 "nbformat": 4,
 "nbformat_minor": 2
}
